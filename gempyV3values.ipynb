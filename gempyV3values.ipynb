{
 "cells": [
  {
   "cell_type": "markdown",
   "metadata": {},
   "source": [
    "# How to add surface values to GemPy v3 models\n",
    "This short howto demontrates adding surface values such as seismic velocities, density, porosity to surface layers in GemPy v3. This functionality was directly available in previous versions of GemPy.\n",
    "This howto came about implementing an excellent tutorial created by Ed Caunt for transform 2021 - [Creating seismic synthetics with Devito and GemPy](https://github.com/devitocodes/transform2021/blob/main/creating_synthetics.ipynb).\n",
    "All background and setup information can be found there and all credit to Ed Caunt.\n",
    "\n",
    "Frans B Slabber frans@gaiamathematica.net Sept 2024\n",
    "Note- This was done in Visual Code on linux."
   ]
  },
  {
   "cell_type": "code",
   "execution_count": 18,
   "metadata": {},
   "outputs": [],
   "source": [
    "# Uncomment for first time install.\n",
    "# !pip install numpy\n",
    "# !pip install pandas\n",
    "# !pip install gempy\n",
    "# !pip install gempy_viewer\n",
    "# !pip install jinja2\n",
    "# !pip install pyvista\n",
    "\n",
    "\n",
    "import gempy as gp\n",
    "import gempy\n",
    "\n",
    "# Importing auxiliary libraries\n",
    "import numpy as np\n",
    "import pandas as pd\n",
    "import gempy_viewer as gpv\n",
    "\n",
    "%matplotlib inline\n",
    "import jinja2\n"
   ]
  },
  {
   "cell_type": "code",
   "execution_count": 19,
   "metadata": {},
   "outputs": [
    {
     "name": "stdout",
     "output_type": "stream",
     "text": [
      "Setting Backend To: AvailableBackends.numpy\n",
      "Chunking done: 40 chunks\n",
      "Chunking done: 36 chunks\n"
     ]
    }
   ],
   "source": [
    "# Set overarching model parameters\n",
    "extent = (-5., 1005., -5., 1005., -1005., 5.)\n",
    "shape = (101, 101, 101)\n",
    "\n",
    "geo_model = gp.create_geomodel(project_name='SeisSynth',extent=extent,resolution=shape,\n",
    "        importer_helper=gp.data.ImporterHelper(\n",
    "        path_to_orientations=\"data/orientations.csv\",\n",
    "        path_to_surface_points=\"data/surfaces.csv\"\n",
    "    )\n",
    ")\n",
    "gp.map_stack_to_surfaces( geo_model,\n",
    "    mapping_object={'Upper': ('water', 'sediments', 'uppershale'),\n",
    "                    'Lower': ('co2', 'sands')}  )\n",
    "\n",
    "# Remove the default group\n",
    "gp.remove_structural_group_by_name(geo_model,'default_formation')\n",
    "    \n",
    "sol = gp.compute_model(geo_model)"
   ]
  },
  {
   "cell_type": "code",
   "execution_count": 20,
   "metadata": {},
   "outputs": [
    {
     "data": {
      "text/plain": [
       "<gempy_viewer.modules.plot_3d.vista.GemPyToVista at 0x77ce691ff980>"
      ]
     },
     "execution_count": 20,
     "metadata": {},
     "output_type": "execute_result"
    }
   ],
   "source": [
    "# You can comment this out if you don't want execution to pause the display.\n",
    "gpv.plot_3d(geo_model, show_data=False, image=False, plotter_type='basic')"
   ]
  },
  {
   "cell_type": "markdown",
   "metadata": {},
   "source": [
    "Add the p-wave velocities associated with each of these layers by substituting the velocity values for the surface id in the lith block array. A bit of trickery here: The lith block contains 7 IDs. So I added 1 in for the \"extra\" velocity. Still trying to find out where that came from. GemPy filler when surface fir breaks down?"
   ]
  },
  {
   "cell_type": "code",
   "execution_count": 21,
   "metadata": {},
   "outputs": [
    {
     "name": "stdout",
     "output_type": "stream",
     "text": [
      "(1030301,)\n",
      "1 7\n",
      "[2.5 2.5 2.5 ... 1.5 1.5 1.5]\n"
     ]
    }
   ],
   "source": [
    "# gempy V3 does not have adding surface values functionality\n",
    "# hack is to make a float array of same dimen as the lithblock, and replace all surface IDs replaced by P velocities\n",
    "Vp_array = np.zeros(shape=geo_model.solutions.raw_arrays.lith_block.shape)\n",
    "print(Vp_array.shape)\n",
    "Vp_lith_values = [1.5, 1.75, 2.5, 1.1, 2., 2.5, 1]\n",
    "\n",
    "print(geo_model.solutions.raw_arrays.lith_block.min(), geo_model.solutions.raw_arrays.lith_block.max())\n",
    "\n",
    "for idx,i in enumerate(geo_model.solutions.raw_arrays.lith_block):\n",
    "    Vp_array[idx]= Vp_lith_values[i-1]\n",
    "    \n",
    "print(Vp_array)\n"
   ]
  },
  {
   "cell_type": "markdown",
   "metadata": {},
   "source": [
    "Reshape the modified lith block array to correct 3D shape for Devito."
   ]
  },
  {
   "cell_type": "code",
   "execution_count": 22,
   "metadata": {},
   "outputs": [
    {
     "data": {
      "text/plain": [
       "(101, 101, 101)"
      ]
     },
     "execution_count": 22,
     "metadata": {},
     "output_type": "execute_result"
    }
   ],
   "source": [
    "# Reshaping our data to the shape required by Devito\n",
    "reshaped = np.reshape(Vp_array, shape, order='C')\n",
    "reshaped.shape"
   ]
  },
  {
   "cell_type": "markdown",
   "metadata": {},
   "source": [
    "Plot a slice as per original tutorial for comparison."
   ]
  },
  {
   "cell_type": "code",
   "execution_count": 23,
   "metadata": {},
   "outputs": [
    {
     "data": {
      "image/png": "[encoded data removed]",
      "text/plain": [
       "<Figure size 1040x715 with 2 Axes>"
      ]
     },
     "metadata": {},
     "output_type": "display_data"
    }
   ],
   "source": [
    "import matplotlib.pyplot as plt\n",
    "\n",
    "# Take the center slice in the x direction\n",
    "# Remember that in Devito, indexing convention is [x, y, z] (need to flip for correct imshow display)\n",
    "plt.imshow(reshaped[50].T, cmap='viridis', origin='lower')\n",
    "plt.colorbar()\n",
    "plt.show()"
   ]
  }
 ],
 "metadata": {
  "kernelspec": {
   "display_name": ".venv",
   "language": "python",
   "name": "python3"
  },
  "language_info": {
   "codemirror_mode": {
    "name": "ipython",
    "version": 3
   },
   "file_extension": ".py",
   "mimetype": "text/x-python",
   "name": "python",
   "nbconvert_exporter": "python",
   "pygments_lexer": "ipython3",
   "version": "3.12.3"
  }
 },
 "nbformat": 4,
 "nbformat_minor": 4
}
